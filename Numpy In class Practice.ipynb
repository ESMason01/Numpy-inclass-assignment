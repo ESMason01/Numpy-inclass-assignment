{
 "cells": [
  {
   "cell_type": "markdown",
   "id": "b079616b",
   "metadata": {},
   "source": [
    "# Numpy- inclass assignment \n",
    "## Submit your work using GitHub to Moodle"
   ]
  },
  {
   "cell_type": "markdown",
   "id": "82127cdd",
   "metadata": {},
   "source": [
    "### Generate a random numpy array for Month of October where the highest temperature varies between 48-81 degree Farenheit\n",
    "- Keep in mind the length of the month\n",
    "- set a random seed of 1 for regenerate\n",
    "- Display the numpy array named `Temp_O` and find out the minimum and maximum temperature of month"
   ]
  },
  {
   "cell_type": "code",
   "execution_count": 2,
   "id": "8c94eaf9",
   "metadata": {},
   "outputs": [
    {
     "name": "stdout",
     "output_type": "stream",
     "text": [
      "[60 56 57 59 53 63 48 64 49 60 55 54 73 68 66 68 59 76 77 62 52 71 71 78\n",
      " 80 70 61 57 55 70 49]\n"
     ]
    }
   ],
   "source": [
    "import numpy as np\n",
    "np.random.seed(1)\n",
    "Temp_O= np.random.randint(48,81,31)\n",
    "print(Temp_O)"
   ]
  },
  {
   "cell_type": "code",
   "execution_count": null,
   "id": "2fb52e4d",
   "metadata": {},
   "outputs": [],
   "source": []
  },
  {
   "cell_type": "code",
   "execution_count": null,
   "id": "a5d14159",
   "metadata": {},
   "outputs": [],
   "source": []
  },
  {
   "cell_type": "markdown",
   "id": "9ce763ee",
   "metadata": {},
   "source": [
    "### Load the numpy file `Temp_December` and store it to a variable named Temp_D"
   ]
  },
  {
   "cell_type": "code",
   "execution_count": 3,
   "id": "fbfa1c12",
   "metadata": {},
   "outputs": [],
   "source": [
    "Temp_D=np.load(\"Temp_December.npy\")"
   ]
  },
  {
   "cell_type": "code",
   "execution_count": 5,
   "id": "bd2c01da",
   "metadata": {},
   "outputs": [
    {
     "data": {
      "text/plain": [
       "array([44, 50, 19, 15, 16, 18, 12, 22,  7, 23,  8, 19, 14, 52, 13, 32, 57,\n",
       "       27, 44, 25, 27, 18, 49, 35, 36, 21, 57, 11, 30, 30, 48],\n",
       "      dtype=int32)"
      ]
     },
     "execution_count": 5,
     "metadata": {},
     "output_type": "execute_result"
    }
   ],
   "source": [
    "Temp_D"
   ]
  },
  {
   "cell_type": "code",
   "execution_count": null,
   "id": "e8fc4e1e",
   "metadata": {},
   "outputs": [],
   "source": []
  },
  {
   "cell_type": "markdown",
   "id": "a9847e78",
   "metadata": {},
   "source": [
    "### Compare two numpy array - Temp_O and Temp_D\n",
    "- Elementwise\n",
    "- Arraywise"
   ]
  },
  {
   "cell_type": "code",
   "execution_count": 4,
   "id": "9b9a8704",
   "metadata": {},
   "outputs": [
    {
     "data": {
      "text/plain": [
       "array([ True,  True,  True,  True,  True,  True,  True,  True,  True,\n",
       "        True,  True,  True,  True,  True,  True,  True,  True,  True,\n",
       "        True,  True,  True,  True,  True,  True,  True,  True,  True,\n",
       "        True,  True,  True,  True])"
      ]
     },
     "execution_count": 4,
     "metadata": {},
     "output_type": "execute_result"
    }
   ],
   "source": [
    "Temp_O>Temp_D #each day in october is greater than december"
   ]
  },
  {
   "cell_type": "code",
   "execution_count": 5,
   "id": "a4dee81c",
   "metadata": {},
   "outputs": [
    {
     "data": {
      "text/plain": [
       "array([False, False, False, False, False, False, False, False, False,\n",
       "       False, False, False, False, False, False, False, False, False,\n",
       "       False, False, False, False, False, False, False, False, False,\n",
       "       False, False, False, False])"
      ]
     },
     "execution_count": 5,
     "metadata": {},
     "output_type": "execute_result"
    }
   ],
   "source": [
    "Temp_O==Temp_D "
   ]
  },
  {
   "cell_type": "code",
   "execution_count": 6,
   "id": "320c046b",
   "metadata": {},
   "outputs": [
    {
     "data": {
      "text/plain": [
       "False"
      ]
     },
     "execution_count": 6,
     "metadata": {},
     "output_type": "execute_result"
    }
   ],
   "source": [
    "#array\n",
    "np.array_equal(Temp_O, Temp_D)"
   ]
  },
  {
   "cell_type": "markdown",
   "id": "0a88755c",
   "metadata": {},
   "source": [
    "### Find out the:\n",
    "- Average temperature\n",
    "- Standard deviation\n",
    "- Varience\n",
    "- Minimum temp\n",
    "- Maximum temp\n",
    "- Median\n",
    "#### for Month of December"
   ]
  },
  {
   "cell_type": "code",
   "execution_count": 8,
   "id": "a2f7560c",
   "metadata": {},
   "outputs": [
    {
     "name": "stdout",
     "output_type": "stream",
     "text": [
      "Mean temp 28\n",
      "Standard deviation 15\n"
     ]
    }
   ],
   "source": [
    "print(\"Mean temp\", round(Temp_D.mean()))\n",
    "print(\"Standard deviation\", round(Temp_D.std()))"
   ]
  },
  {
   "cell_type": "code",
   "execution_count": 10,
   "id": "00e36e9f",
   "metadata": {},
   "outputs": [
    {
     "name": "stdout",
     "output_type": "stream",
     "text": [
      "Variance 220\n"
     ]
    }
   ],
   "source": [
    "print(\"Variance\", round(Temp_D.var()))"
   ]
  },
  {
   "cell_type": "code",
   "execution_count": 9,
   "id": "8dd8d28b",
   "metadata": {},
   "outputs": [
    {
     "name": "stdout",
     "output_type": "stream",
     "text": [
      "Minimum height 7\n",
      "Maximum height 57\n",
      "Median 25.0\n"
     ]
    }
   ],
   "source": [
    "print(\"Minimum height\", Temp_D.min())\n",
    "print(\"Maximum height\", Temp_D.max())\n",
    "print(\"Median\", np.median(Temp_D))"
   ]
  },
  {
   "cell_type": "code",
   "execution_count": null,
   "id": "6f8fa8b6",
   "metadata": {},
   "outputs": [],
   "source": []
  },
  {
   "cell_type": "markdown",
   "id": "a8bfea7e",
   "metadata": {},
   "source": [
    "### Plot the distribution of December Temperature using Matplotlib\n",
    "- add title and create proper labels"
   ]
  },
  {
   "cell_type": "code",
   "execution_count": 13,
   "id": "5e8310b6",
   "metadata": {},
   "outputs": [
    {
     "data": {
      "image/png": "[encoded data removed]",
      "text/plain": [
       "<Figure size 640x480 with 1 Axes>"
      ]
     },
     "metadata": {},
     "output_type": "display_data"
    }
   ],
   "source": [
    "import matplotlib.pyplot as plt\n",
    "plt.hist(Temp_D)\n",
    "plt.title(\"Temps in december\")\n",
    "plt.xlabel('Temp Range')\n",
    "plt.ylabel('Frequency')\n",
    "plt.show()"
   ]
  },
  {
   "cell_type": "code",
   "execution_count": null,
   "id": "f76d25ca",
   "metadata": {},
   "outputs": [],
   "source": [
    "#go in and add proper labels"
   ]
  },
  {
   "cell_type": "markdown",
   "id": "4ac618ad",
   "metadata": {},
   "source": [
    "### Convert the Temp_D to Celsius and store it to a variable names Temp_C. \n",
    "- Round off the result\n",
    "- Save it to a numpy file called DecemberTemp_Celsius"
   ]
  },
  {
   "cell_type": "code",
   "execution_count": 7,
   "id": "6942dd4c",
   "metadata": {},
   "outputs": [
    {
     "data": {
      "text/plain": [
       "array([44, 50, 19, 15, 16, 18, 12, 22,  7, 23,  8, 19, 14, 52, 13, 32, 57,\n",
       "       27, 44, 25, 27, 18, 49, 35, 36, 21, 57, 11, 30, 30, 48],\n",
       "      dtype=int32)"
      ]
     },
     "execution_count": 7,
     "metadata": {},
     "output_type": "execute_result"
    }
   ],
   "source": [
    "Temp_D"
   ]
  },
  {
   "cell_type": "code",
   "execution_count": 8,
   "id": "5afdbbe0",
   "metadata": {},
   "outputs": [],
   "source": [
    "Temp_C=np.round(Temp_D-32*(5/9))"
   ]
  },
  {
   "cell_type": "code",
   "execution_count": 10,
   "id": "7819fcab",
   "metadata": {},
   "outputs": [],
   "source": [
    "np.save(\"DecemberTemp_Celsius.npy\",Temp_C)"
   ]
  },
  {
   "cell_type": "code",
   "execution_count": 12,
   "id": "c1105039",
   "metadata": {},
   "outputs": [
    {
     "data": {
      "text/plain": [
       "array([ 26.,  32.,   1.,  -3.,  -2.,   0.,  -6.,   4., -11.,   5., -10.,\n",
       "         1.,  -4.,  34.,  -5.,  14.,  39.,   9.,  26.,   7.,   9.,   0.,\n",
       "        31.,  17.,  18.,   3.,  39.,  -7.,  12.,  12.,  30.])"
      ]
     },
     "execution_count": 12,
     "metadata": {},
     "output_type": "execute_result"
    }
   ],
   "source": [
    "Y=np.load(\"DecemberTemp_Celsius.npy\")\n",
    "Y"
   ]
  },
  {
   "cell_type": "code",
   "execution_count": null,
   "id": "6a29a9d9",
   "metadata": {},
   "outputs": [],
   "source": []
  }
 ],
 "metadata": {
  "kernelspec": {
   "display_name": "Python 3 (ipykernel)",
   "language": "python",
   "name": "python3"
  },
  "language_info": {
   "codemirror_mode": {
    "name": "ipython",
    "version": 3
   },
   "file_extension": ".py",
   "mimetype": "text/x-python",
   "name": "python",
   "nbconvert_exporter": "python",
   "pygments_lexer": "ipython3",
   "version": "3.9.13"
  }
 },
 "nbformat": 4,
 "nbformat_minor": 5
}
